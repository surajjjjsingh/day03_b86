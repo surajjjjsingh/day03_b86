{
 "cells": [
  {
   "cell_type": "code",
   "execution_count": null,
   "id": "2bf43647-b858-4a08-be64-162d9f82d3ba",
   "metadata": {},
   "outputs": [],
   "source": [
    "continuation with strings :"
   ]
  },
  {
   "cell_type": "code",
   "execution_count": null,
   "id": "783396a6",
   "metadata": {},
   "outputs": [],
   "source": []
  },
  {
   "cell_type": "code",
   "execution_count": null,
   "id": "efcbe7df",
   "metadata": {},
   "outputs": [],
   "source": [
    "understanding the concept of f strings :"
   ]
  },
  {
   "cell_type": "code",
   "execution_count": null,
   "id": "46db343a",
   "metadata": {},
   "outputs": [],
   "source": [
    "# General Syntax of f strings :"
   ]
  },
  {
   "cell_type": "code",
   "execution_count": null,
   "id": "91c78604",
   "metadata": {},
   "outputs": [],
   "source": [
    "f\"custom message{placeholder -1} {placeholder -2} ............{placeholder...N}\""
   ]
  },
  {
   "cell_type": "code",
   "execution_count": null,
   "id": "fe75a228",
   "metadata": {},
   "outputs": [],
   "source": []
  },
  {
   "cell_type": "code",
   "execution_count": 1,
   "id": "2ddd0491",
   "metadata": {},
   "outputs": [],
   "source": [
    "firstname =\"pradeep\"\n",
    "lastname =\"kumar\""
   ]
  },
  {
   "cell_type": "code",
   "execution_count": null,
   "id": "f7097618",
   "metadata": {},
   "outputs": [],
   "source": [
    "# reg = i want to get the fullname......?"
   ]
  },
  {
   "cell_type": "code",
   "execution_count": 3,
   "id": "f3c11d8b",
   "metadata": {},
   "outputs": [
    {
     "name": "stdout",
     "output_type": "stream",
     "text": [
      "pradeep kumar\n"
     ]
    }
   ],
   "source": [
    "fullname =f\"{firstname} {lastname}\"\n",
    "print(fullname)"
   ]
  },
  {
   "cell_type": "code",
   "execution_count": 4,
   "id": "1ede1df9",
   "metadata": {},
   "outputs": [
    {
     "name": "stdout",
     "output_type": "stream",
     "text": [
      "Pradeep Kumar\n"
     ]
    }
   ],
   "source": [
    "print(fullname.title())"
   ]
  },
  {
   "cell_type": "code",
   "execution_count": 5,
   "id": "63b6970d",
   "metadata": {},
   "outputs": [
    {
     "name": "stdout",
     "output_type": "stream",
     "text": [
      "keep up the good work, Pradeep Kumar\n"
     ]
    }
   ],
   "source": [
    "message = f\"keep up the good work, {fullname.title()}\"\n",
    "print(message)"
   ]
  },
  {
   "cell_type": "code",
   "execution_count": null,
   "id": "f95aae75",
   "metadata": {},
   "outputs": [],
   "source": []
  },
  {
   "cell_type": "code",
   "execution_count": null,
   "id": "ed4ce0f6",
   "metadata": {},
   "outputs": [],
   "source": [
    "Adding whitwspaces to strings :"
   ]
  },
  {
   "cell_type": "code",
   "execution_count": 6,
   "id": "c92a858f",
   "metadata": {},
   "outputs": [
    {
     "name": "stdout",
     "output_type": "stream",
     "text": [
      "fav_prog_language:pythonjavac++swiftc\n"
     ]
    }
   ],
   "source": [
    "print(\"fav_prog_language:pythonjavac++swiftc\")"
   ]
  },
  {
   "cell_type": "code",
   "execution_count": 7,
   "id": "760468d8",
   "metadata": {},
   "outputs": [
    {
     "name": "stdout",
     "output_type": "stream",
     "text": [
      "fav_prog_language:\n",
      "python\n",
      "java\n",
      "c++\n",
      "swift\n",
      "c\n"
     ]
    }
   ],
   "source": [
    "print(\"fav_prog_language:\\npython\\njava\\nc++\\nswift\\nc\")"
   ]
  },
  {
   "cell_type": "code",
   "execution_count": null,
   "id": "3c38ba70",
   "metadata": {},
   "outputs": [],
   "source": [
    "#\\n-----> new line delimiter"
   ]
  },
  {
   "cell_type": "code",
   "execution_count": 8,
   "id": "5ab1cba2",
   "metadata": {},
   "outputs": [
    {
     "name": "stdout",
     "output_type": "stream",
     "text": [
      "fav_prog_language:\n",
      "\tpython\n",
      "\tjava\n",
      "\tc++\n",
      "\tswift\n",
      "\tc\n"
     ]
    }
   ],
   "source": [
    "print(\"fav_prog_language:\\n\\tpython\\n\\tjava\\n\\tc++\\n\\tswift\\n\\tc\")"
   ]
  },
  {
   "cell_type": "code",
   "execution_count": null,
   "id": "ac927d00",
   "metadata": {},
   "outputs": [],
   "source": [
    "#\\t----->tab delimiter"
   ]
  },
  {
   "cell_type": "code",
   "execution_count": null,
   "id": "8610f829",
   "metadata": {},
   "outputs": [],
   "source": []
  },
  {
   "cell_type": "code",
   "execution_count": null,
   "id": "2d48aaa9",
   "metadata": {},
   "outputs": [],
   "source": [
    "Removing whitespace from the strings :"
   ]
  },
  {
   "cell_type": "code",
   "execution_count": null,
   "id": "7d9ccfba",
   "metadata": {},
   "outputs": [],
   "source": []
  },
  {
   "cell_type": "code",
   "execution_count": 14,
   "id": "48135662",
   "metadata": {},
   "outputs": [
    {
     "name": "stdout",
     "output_type": "stream",
     "text": [
      " python\n"
     ]
    }
   ],
   "source": [
    "name1 =\" python\"    #gap is on the left side.....\n",
    "print(name1)"
   ]
  },
  {
   "cell_type": "code",
   "execution_count": 13,
   "id": "b1e5537c",
   "metadata": {},
   "outputs": [
    {
     "name": "stdout",
     "output_type": "stream",
     "text": [
      "python  \n"
     ]
    }
   ],
   "source": [
    "name2 =\"python  \"    #gap is on the rigth side.....\n",
    "print(name2)"
   ]
  },
  {
   "cell_type": "code",
   "execution_count": 15,
   "id": "19ce0aa1",
   "metadata": {},
   "outputs": [
    {
     "name": "stdout",
     "output_type": "stream",
     "text": [
      "python\n"
     ]
    }
   ],
   "source": [
    "name3 =\"python\"    \n",
    "print(name3)"
   ]
  },
  {
   "cell_type": "code",
   "execution_count": 16,
   "id": "1b559243",
   "metadata": {},
   "outputs": [
    {
     "data": {
      "text/plain": [
       "'python'"
      ]
     },
     "execution_count": 16,
     "metadata": {},
     "output_type": "execute_result"
    }
   ],
   "source": [
    "name.lstrip()"
   ]
  },
  {
   "cell_type": "code",
   "execution_count": 17,
   "id": "9491cee2",
   "metadata": {},
   "outputs": [
    {
     "data": {
      "text/plain": [
       "'python'"
      ]
     },
     "execution_count": 17,
     "metadata": {},
     "output_type": "execute_result"
    }
   ],
   "source": [
    "name2.rstrip()"
   ]
  },
  {
   "cell_type": "code",
   "execution_count": 18,
   "id": "66667f0e",
   "metadata": {},
   "outputs": [
    {
     "name": "stdout",
     "output_type": "stream",
     "text": [
      " python \n"
     ]
    }
   ],
   "source": [
    "name4 = \" python \"\n",
    "print(name4)"
   ]
  },
  {
   "cell_type": "code",
   "execution_count": 19,
   "id": "9838eb47",
   "metadata": {},
   "outputs": [
    {
     "data": {
      "text/plain": [
       "'python'"
      ]
     },
     "execution_count": 19,
     "metadata": {},
     "output_type": "execute_result"
    }
   ],
   "source": [
    "name4.strip()"
   ]
  },
  {
   "cell_type": "code",
   "execution_count": null,
   "id": "f162398d",
   "metadata": {},
   "outputs": [],
   "source": []
  }
 ],
 "metadata": {
  "kernelspec": {
   "display_name": "Python 3 (ipykernel)",
   "language": "python",
   "name": "python3"
  },
  "language_info": {
   "codemirror_mode": {
    "name": "ipython",
    "version": 3
   },
   "file_extension": ".py",
   "mimetype": "text/x-python",
   "name": "python",
   "nbconvert_exporter": "python",
   "pygments_lexer": "ipython3",
   "version": "3.11.7"
  }
 },
 "nbformat": 4,
 "nbformat_minor": 5
}
